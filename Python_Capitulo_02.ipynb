{
  "nbformat": 4,
  "nbformat_minor": 0,
  "metadata": {
    "colab": {
      "name": "Python_Capitulo_02.ipynb",
      "provenance": [],
      "collapsed_sections": [],
      "authorship_tag": "ABX9TyPqpkD2R+oU7VK5lP+nEEpj",
      "include_colab_link": true
    },
    "kernelspec": {
      "name": "python3",
      "display_name": "Python 3"
    },
    "language_info": {
      "name": "python"
    }
  },
  "cells": [
    {
      "cell_type": "markdown",
      "metadata": {
        "id": "view-in-github",
        "colab_type": "text"
      },
      "source": [
        "<a href=\"https://colab.research.google.com/github/Leopcampos/DesafioFinal-IGTI-modulo01/blob/main/Python_Capitulo_02.ipynb\" target=\"_parent\"><img src=\"https://colab.research.google.com/assets/colab-badge.svg\" alt=\"Open In Colab\"/></a>"
      ]
    },
    {
      "cell_type": "code",
      "metadata": {
        "colab": {
          "base_uri": "https://localhost:8080/"
        },
        "id": "xZjA6kA7rz2K",
        "outputId": "1a934687-c57a-47d8-be41-ae2d980bf82a"
      },
      "source": [
        "# Expressão booleana - True ou False\n",
        "nome = input(\"Digite o seu nome: \")\n",
        "if len(nome) > 20:\n",
        "  print(\"O nome deve ter no máximo 20 caracteres!\")\n",
        "  nome = input(\"Digite o seu nome: \")\n",
        "#else :\n",
        "  print(\"Nome Digitado: {}\".format(nome))"
      ],
      "execution_count": 8,
      "outputs": [
        {
          "output_type": "stream",
          "text": [
            "Digite o seu nome: Leonardo Pereira Campos\n",
            "O nome deve ter no máximo 20 caracteres!\n",
            "Digite o seu nome: Leonardo Campos\n"
          ],
          "name": "stdout"
        }
      ]
    },
    {
      "cell_type": "code",
      "metadata": {
        "colab": {
          "base_uri": "https://localhost:8080/"
        },
        "id": "3RfGCtZLuCz5",
        "outputId": "90b0c423-d1d3-4dbf-e512-d6cf41175f1a"
      },
      "source": [
        "usuario = input(\"Digite o seu usuário: \")\n",
        "senha = input(\"Digite a sua senha: \")\n",
        "if (usuario==\"Leonardo\")and(senha==\"secreto\"):\n",
        "  print(\"Acesso concedido!!!!\")\n",
        "else:\n",
        "  print(\"Acesso negado, usuário ou senha inválidos\")"
      ],
      "execution_count": 15,
      "outputs": [
        {
          "output_type": "stream",
          "text": [
            "Digite o seu usuário: cicero\n",
            "Digite a sua senha: cezar\n",
            "Acesso negado, usuário ou senha inválidos\n"
          ],
          "name": "stdout"
        }
      ]
    },
    {
      "cell_type": "code",
      "metadata": {
        "colab": {
          "base_uri": "https://localhost:8080/"
        },
        "id": "iYlwNRTvxD7o",
        "outputId": "254654c7-edc3-46f2-fc3f-0c7150544e92"
      },
      "source": [
        "# tem carteira de moto\n",
        "# tem carteira de carro\n",
        "# Se tiver carteira de carro então seu nível = 1\n",
        "# Se tiver carteira de moto então seu nível = 2\n",
        "# Se tiver carteira de carro e de moto seu nível = 3\n",
        "# Algoritmo para calcular o nível do funcionário\n",
        "questao = input(\"Você tem carteira de moto(S/N)?\")\n",
        "carteira_moto = questao.upper()==\"S\"or(questao.upper()==\"SIM\") # .upper para passar o caractere s para S\n",
        "questao = input(\"Você tem carteira de carro(S/N)?\")\n",
        "carteira_carro = questao.upper()==\"S\"or(questao.upper()==\"SIM\")\n",
        "if (carteira_carro)and(not(carteira_moto)):\n",
        "  print(\"Você está no nível 1.\")\n",
        "elif (not(carteira_carro))and(carteira_moto):\n",
        "  print(\"Você está no nível 2.\")\n",
        "elif (carteira_carro)and(carteira_moto):\n",
        "  print(\"Você está no nível 3.\")"
      ],
      "execution_count": 31,
      "outputs": [
        {
          "output_type": "stream",
          "text": [
            "Você tem carteira de moto(S/N)?sim\n",
            "Você tem carteira de carro(S/N)?titi\n",
            "Você está no nível 2\n"
          ],
          "name": "stdout"
        }
      ]
    },
    {
      "cell_type": "code",
      "metadata": {
        "colab": {
          "base_uri": "https://localhost:8080/"
        },
        "id": "kclEo7qX7W3j",
        "outputId": "ad3c4ba0-e68a-472c-dcd2-d41fd814c5a6"
      },
      "source": [
        "# primeiro_emprego?\n",
        "# tem alguma carteira?\n",
        "# Quero saber se ele tem vaga ou não na empresa\n",
        "# Ele tem vaga se é o primeiro emprego ou já tem alguma habilitação\n",
        "questao = input(\"É o seu primeiro emprego(S/N)?\")\n",
        "primeiro_emprego = questao.upper() ==\"S\"or(questao.upper()==\"SIM\")\n",
        "questao = input(\"Possui habilitação(S/N)?\")\n",
        "habilitacao = questao.upper() ==\"S\"or(questao.upper()==\"SIM\")\n",
        "if (primeiro_emprego)or(habilitacao):\n",
        "  print(\"Você pode trabalhar na nossa empresa.\")\n",
        "else:\n",
        "  print(\"Desculpe, não há vagas para você no momento.\")  "
      ],
      "execution_count": 36,
      "outputs": [
        {
          "output_type": "stream",
          "text": [
            "É o seu primeiro emprego(S/N)?n\n",
            "Possui habilitação(S/N)?n\n",
            "Desculpe, não há vagas para você no momento\n"
          ],
          "name": "stdout"
        }
      ]
    },
    {
      "cell_type": "code",
      "metadata": {
        "colab": {
          "base_uri": "https://localhost:8080/"
        },
        "id": "IUDxHb8oRegM",
        "outputId": "a93a0971-7842-48fd-80c9-40b06ea4256b"
      },
      "source": [
        "# Jogo de Dados\n",
        "# Escolho o valor entre 1 e 6\n",
        "# Escolho o quanto quero apostar Máximo 100 (Valor q eu tenho no bolso)\n",
        "# Jogo 2 dados\n",
        "# Se 1 dado igual, ganho 2 vezes o valor apostado\n",
        "# Se 2 dados derem iguais, ganho 10 vezes o valor apostado\n",
        "# Se não der nenhum dado igual, perco meu dinheiro\n",
        "from random import randrange\n",
        "bolso = 100\n",
        "numero_apostado = int(input(\"Qual número você aposta? \"))\n",
        "valor_aposta = float(input(\"Qual o valor da aposta? \"))\n",
        "if valor_aposta > bolso:\n",
        "  print (\"Você não tem esse dinheiro\")\n",
        "else:    \n",
        "  bolso = bolso - valor_aposta\n",
        "  dado1 = randrange(1,6)\n",
        "  dado2 = randrange(1,6)\n",
        "  mensagem_ganho = \"você ganhou {} e agora está com {}\"\n",
        "  print(\"Sorteados os dados {} e {}\".format(dado1, dado2 ))\n",
        "  resultado = 0\n",
        "  if (dado1==numero_apostado)and(dado==numero_apostado):\n",
        "    resultado = valor_aposta * 10\n",
        "    bolso = resultado + bolso\n",
        "    print(mensagem_ganho.format(resultado, bolso))\n",
        "  elif (dado1==numero_apostado)or(dado2==numero_apostado):\n",
        "    resultado = valor_aposta * 2\n",
        "    bolso = resultado + bolso\n",
        "    print(mensagem_ganho.format(resultado, bolso))\n",
        "  else:\n",
        "    print(\"Você errou. Agora tem no bolso {}\".format(bolso))    "
      ],
      "execution_count": 44,
      "outputs": [
        {
          "output_type": "stream",
          "text": [
            "Qual número você aposta? 5\n",
            "Qual o valor da aposta? 100\n",
            "Sorteados os dados 1 e 2\n",
            "Você errou. Agora tem no bolso 0.0\n"
          ],
          "name": "stdout"
        }
      ]
    },
    {
      "cell_type": "code",
      "metadata": {
        "colab": {
          "base_uri": "https://localhost:8080/"
        },
        "id": "yzj5ZpLmwFIQ",
        "outputId": "a06f6868-0d62-4646-98a2-861042d9a6f9"
      },
      "source": [
        "# Cálculo do IMC\n",
        "# Fórmula IMC = peso / (altura**)\n",
        "# abaixo de 17 => muito abaixo do peso\n",
        "# entre 17 e 18.5 => Abaixo do peso\n",
        "# entre 18.5 e 25 => peso normal\n",
        "# 25 e 30 => acima do peso\n",
        "# 30 e 35 => obesidade grau I\n",
        "# 35 e 40 => obesidade grau II\n",
        "# aco,a de 40 => obesidade mórbida\n",
        "\n",
        "print(\"Olá, vamos ajudar você a ficar saudável. Primeiro precisamos saber o seu IMC\")\n",
        "peso = float(input(\"Digite o seu peso: \"))\n",
        "altura = float(input(\"Digite a sua altura: \"))\n",
        "imc = peso / (altura**2)\n",
        "print(\"Seu IMC é {}\".format(imc))\n",
        "if imc < 17:\n",
        "  print (\"Você está muito abaixo do peso\")\n",
        "elif imc >=17 and imc < 18.5:\n",
        " print(\"Você está abaixo do peso\") \n",
        "elif imc >=18.5 and imc < 25:\n",
        " print(\"Você está no peso normal\") \n",
        "elif imc >=25 and imc < 30:\n",
        " print(\"Você está acima do peso\") \n",
        "elif imc >=30 and imc < 35:\n",
        " print(\"Você está com obesidade grau I\") \n",
        "elif imc >=35 and imc < 40:\n",
        " print(\"Você está com obesidade grau II\") \n",
        "elif imc >= 40:\n",
        " print(\"Você está com obesidade mórbida\")     "
      ],
      "execution_count": 49,
      "outputs": [
        {
          "output_type": "stream",
          "text": [
            "Olá, vamos ajudar você a ficar saudável. Primeiro precisamos saber o seu IMC\n",
            "Digite o seu peso: 140\n",
            "Digite a sua altura: 1.80\n",
            "Seu IMC é 43.20987654320987\n",
            "Você está com obesidade mórbida\n"
          ],
          "name": "stdout"
        }
      ]
    }
  ]
}